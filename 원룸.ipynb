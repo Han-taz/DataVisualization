{
 "cells": [
  {
   "cell_type": "markdown",
   "id": "485ab55d-6579-49ce-9ed1-829f5eb0ed5d",
   "metadata": {
    "tags": []
   },
   "source": [
    "## 라이브러리 호출"
   ]
  },
  {
   "cell_type": "code",
   "execution_count": 450,
   "id": "2b04be81-c21c-4fc9-9d9e-cb46fd011738",
   "metadata": {},
   "outputs": [],
   "source": [
    "# pip install haversine\n",
    "# !pip install geopandas\n",
    "\n",
    "# pip install folium\n",
    "# !jupyter nbextension install --sys-prefix --symlink --overwrite --py pydeck\n",
    "# !jupyter nbextension enable --sys-prefix --py pydeck"
   ]
  },
  {
   "cell_type": "code",
   "execution_count": 449,
   "id": "9ff657b3-978f-4015-8b56-80b3badad56c",
   "metadata": {
    "tags": []
   },
   "outputs": [],
   "source": [
    "import pandas as pd\n",
    "import matplotlib.pyplot as plt\n",
    "import seaborn as sns\n",
    "import numpy as np\n",
    "# pd.options.display.float_format = '{:}'.format\n",
    "\n",
    "\n",
    "import warnings\n",
    "warnings.filterwarnings(action='ignore')\n",
    "\n",
    "from haversine import haversine\n",
    "import geopandas as gpd\n",
    "from tqdm import tqdm\n",
    "\n",
    "import folium\n",
    "import json\n",
    "\n",
    "import plotly.express as px\n",
    "\n",
    "import mapboxgl\n",
    "\n",
    "import pydeck as pdk\n",
    "\n",
    "from mapboxgl.utils import df_to_geojson\n",
    "import json\n",
    "\n",
    "from mapboxgl.viz import ChoroplethViz\n",
    "from mapboxgl.utils import create_color_stops"
   ]
  },
  {
   "cell_type": "markdown",
   "id": "0a9d01e7-cf4f-4404-9550-414dc8a87a09",
   "metadata": {
    "tags": []
   },
   "source": [
    "## 데이터 불러오기"
   ]
  },
  {
   "cell_type": "code",
   "execution_count": 36,
   "id": "209ff8ad-9d71-46d2-9043-498921dba159",
   "metadata": {},
   "outputs": [],
   "source": [
    "df = pd.read_csv(\"서울시 전월세 데이터(전처리).csv\")"
   ]
  },
  {
   "cell_type": "code",
   "execution_count": 4,
   "id": "dfe96cca-f9bd-41f2-a098-12599349dba3",
   "metadata": {},
   "outputs": [],
   "source": [
    "df_police = pd.read_csv(\"경찰서 전처리 완료.csv\", encoding = \"euckr\")"
   ]
  },
  {
   "cell_type": "code",
   "execution_count": 5,
   "id": "f1deb1b5-1019-4b65-adb3-8d35e70b8613",
   "metadata": {},
   "outputs": [],
   "source": [
    "df_sub = pd.read_csv('수도권 지하철역 좌표 데이터.csv', encoding='euckr')"
   ]
  },
  {
   "cell_type": "code",
   "execution_count": null,
   "id": "c2d133a8-a76b-400f-91e4-ad810928331d",
   "metadata": {},
   "outputs": [],
   "source": [
    "df_cu = pd.read_csv('편의점.csv')"
   ]
  },
  {
   "cell_type": "code",
   "execution_count": 6,
   "id": "98cab525-d891-4bbd-b7db-2eaf594a02c1",
   "metadata": {},
   "outputs": [],
   "source": [
    "cctv = pd.read_csv(\"CCTV.csv\")"
   ]
  },
  {
   "cell_type": "markdown",
   "id": "9bf5103b-8126-4e45-b151-7948855b1ea8",
   "metadata": {
    "tags": []
   },
   "source": [
    "## 전처리 -> V표시가 되어있는 셀만 실행"
   ]
  },
  {
   "cell_type": "markdown",
   "id": "c8ef6c30-4194-4511-ae2b-29c4ee52ab5a",
   "metadata": {
    "tags": []
   },
   "source": [
    "#### 위도, 경도 데이터 하나로 합치기 (V)"
   ]
  },
  {
   "cell_type": "code",
   "execution_count": 37,
   "id": "8c977b11-1038-4816-83a1-6058e65bd710",
   "metadata": {},
   "outputs": [],
   "source": [
    "df_police[\"match\"] = (df_police[\"lat\"].astype(str) + \",\" + df_police[\"lng\"].astype(str)) "
   ]
  },
  {
   "cell_type": "code",
   "execution_count": 38,
   "id": "6211419c-90a7-4e66-9fa2-df2d098506be",
   "metadata": {},
   "outputs": [],
   "source": [
    "df[\"match\"] = (df[\"lat\"].astype(str) + \",\" + df[\"long\"].astype(str)) "
   ]
  },
  {
   "cell_type": "code",
   "execution_count": 39,
   "id": "a2b778c3-9e84-40fc-bd3a-dc315d8d1c6c",
   "metadata": {},
   "outputs": [],
   "source": [
    "cctv[\"match\"] = (cctv[\"WGS84위도\"].astype(str) + \",\" + cctv[\"WGS84경도\"].astype(str)) "
   ]
  },
  {
   "cell_type": "markdown",
   "id": "dad72332-7f0e-4b44-bfc3-65f2382bd825",
   "metadata": {
    "tags": []
   },
   "source": [
    "#### 경찰서 위도, 경도를 기반으로 집과의 거리와 관공서명 생성 (V)"
   ]
  },
  {
   "cell_type": "code",
   "execution_count": 10,
   "id": "7c1572df-be57-45fc-8e1d-37e82634ee9e",
   "metadata": {
    "tags": []
   },
   "outputs": [
    {
     "name": "stderr",
     "output_type": "stream",
     "text": [
      "100%|████████████████████████████████████| 26165/26165 [00:31<00:00, 829.30it/s]\n"
     ]
    }
   ],
   "source": [
    "police_length = []\n",
    "for i,j in tqdm(list(zip(df[\"item_id\"], df[\"match\"]))) :\n",
    "    a, b = j.split(\",\")[0], j.split(\",\")[1]\n",
    "    home = float(a), float(b)\n",
    "    temp = []\n",
    "    vs = []\n",
    "    li = []\n",
    "    for j, k in list(zip(df_police[\"치안센터명\"],df_police[\"match\"])) :\n",
    "        a, b = k.split(\",\")[0], k.split(\",\")[1]\n",
    "        police = float(a,), float(b)\n",
    "        temp.append(haversine(home, police, unit = \"km\"))\n",
    "        vs.append(haversine(home, police, unit = \"km\"))\n",
    "        vs.append(j)\n",
    "    li.append(min(temp))\n",
    "    if  min(temp) == vs[vs.index(min(temp))] :\n",
    "        li.append(vs[vs.index(min(temp))+1])\n",
    "        li.append(i)\n",
    "    police_length.append(li)"
   ]
  },
  {
   "cell_type": "markdown",
   "id": "d80ee343-0a32-4399-bc69-4f8286b7e35f",
   "metadata": {
    "tags": []
   },
   "source": [
    "#### 집과 관공서의 거리를 데이터 프레임으로 전환 (V)"
   ]
  },
  {
   "cell_type": "code",
   "execution_count": 40,
   "id": "4070fd83-1eb0-48e7-aae7-ccc56ebcf347",
   "metadata": {},
   "outputs": [],
   "source": [
    "police_width  = pd.DataFrame(police_length, columns = [\"경찰서_거리\", \"치안센터명\", \"item_id\"])"
   ]
  },
  {
   "cell_type": "code",
   "execution_count": null,
   "id": "80aa8bea-ec6b-4114-9fdd-1034c6453eba",
   "metadata": {},
   "outputs": [],
   "source": [
    "df.head(1)"
   ]
  },
  {
   "cell_type": "code",
   "execution_count": 41,
   "id": "88e99163-1f3e-49a6-b4ba-898a4877d96b",
   "metadata": {},
   "outputs": [],
   "source": [
    "df = pd.merge(df, police_width, on = \"item_id\")"
   ]
  },
  {
   "cell_type": "markdown",
   "id": "bc1f4b2d-a236-471e-882b-6c478fb2bc50",
   "metadata": {
    "tags": []
   },
   "source": [
    "#### 데이터프레임 컬럼 명 수정(거리) (V)"
   ]
  },
  {
   "cell_type": "code",
   "execution_count": null,
   "id": "27460b03-3696-4a20-bb84-bf05f03ed6eb",
   "metadata": {},
   "outputs": [],
   "source": [
    "df[\"거리\"] = df[\"거리\"].astype(str).str[:5].astype(float)"
   ]
  },
  {
   "cell_type": "code",
   "execution_count": null,
   "id": "24fdb08e-f5af-4d73-8f67-cee81eea9a52",
   "metadata": {},
   "outputs": [],
   "source": [
    "df.rename({\"거리\" : \"거리(km)\"}, axis = 1, inplace = True)"
   ]
  },
  {
   "cell_type": "markdown",
   "id": "ed346dd6-c959-4787-bfdb-fb2240338ee0",
   "metadata": {
    "tags": []
   },
   "source": [
    "#### CCTV 사용하지 않는 컬럼은 삭제하고 위도, 경도를 하나로 합친 파생변수 생성 및 경도 이상치 처리 (V)"
   ]
  },
  {
   "cell_type": "code",
   "execution_count": 43,
   "id": "8a0f6689-e9b3-4443-805b-594d288f0965",
   "metadata": {},
   "outputs": [],
   "source": [
    "cctv = cctv[cctv[\"WGS84경도\"] < 130] # 경도에 260 데이터 삭제"
   ]
  },
  {
   "cell_type": "code",
   "execution_count": 45,
   "id": "9c52022c-3e3c-48b6-8dc2-e766b0ffa362",
   "metadata": {
    "tags": []
   },
   "outputs": [],
   "source": [
    "cctv = cctv[(cctv[\"설치목적구분\"] != \"기타\") & (cctv[\"설치목적구분\"] != \"교통정보수집\")]"
   ]
  },
  {
   "cell_type": "markdown",
   "id": "02cb5baf-f064-4da1-826f-5cb8eb5b4502",
   "metadata": {
    "tags": []
   },
   "source": [
    "#### cctv 데이터 코드 알고리즘 구현 전 계획\n",
    "- 설치목적구분, 위도경도, 설치대수 \n",
    "- 특정 집의 위도 경도 기준으로 카메라의 위치를 비교하여 100m 내에 있는 카메라를 모두 수집\n",
    "\n",
    "> 특정 집 모두 반복\n",
    " - 집을 대상으로 위치를 찾을 CCTV 전체 반복\n",
    "     - 집과 CCTV간의 거리를 계산\n",
    "     - 만약 100m 안에 있다면 리스트에 담기\n",
    "     - 이때, 집의 아이디 정보, 해당 위도 경도에 설치 된 카메라 대수, 카메라의 위도 경도"
   ]
  },
  {
   "cell_type": "markdown",
   "id": "55100351-a84d-4d17-bcf2-0b2426d013e8",
   "metadata": {
    "tags": []
   },
   "source": [
    "#### CCTV 데이터 거리 계산 코드 구현"
   ]
  },
  {
   "cell_type": "code",
   "execution_count": 46,
   "id": "b006db5f-7b3a-4127-b118-354f853cffb0",
   "metadata": {},
   "outputs": [],
   "source": [
    "cctv_width = cctv[[\"구\", \"match\", \"설치목적구분\", \"카메라대수\"]]"
   ]
  },
  {
   "cell_type": "code",
   "execution_count": 47,
   "id": "bce93b35-33b4-45d7-b578-855718f95c58",
   "metadata": {},
   "outputs": [],
   "source": [
    "home_width = df[[\"local2\", \"match\", \"item_id\"]]"
   ]
  },
  {
   "cell_type": "markdown",
   "id": "ac22cf7a-c566-46fe-9e37-a4ec783a2a33",
   "metadata": {
    "tags": []
   },
   "source": [
    "##### 집이 어떤 특정 행정지역이라면 그에 맞는 CCTV가 설치 된 지역만 개수를 세라\n",
    "- 집 위도 경도, 집 특정 구 반복\n",
    "    - 만약 집의 특정 구가 관악구라면 CCTV 데이터도 관악구에 위치한 CCTV만 반복\n",
    "        - CCTV를 반복 하면서 100m 내에 위치한 CCTV라면 리스트에 담기\n",
    "    - 총 리스트에 담기(CCTV, 설치 대수, 집 정보)"
   ]
  },
  {
   "cell_type": "code",
   "execution_count": 48,
   "id": "92c00d07-ac28-4deb-9968-0eb360771598",
   "metadata": {},
   "outputs": [],
   "source": [
    "gu = ['서대문구', '마포구', '성동구', '동대문구', '성북구', '중구', '종로구', '영등포구', '구로구',\n",
    "       '양천구', '강서구', '은평구', '강남구', '서초구', '송파구', '노원구', '도봉구', '강북구',\n",
    "       '용산구', '동작구', '중랑구', '금천구', '광진구', '강동구', '관악구']"
   ]
  },
  {
   "cell_type": "code",
   "execution_count": 49,
   "id": "9f2b0803-dd25-4592-a7d9-d26569337850",
   "metadata": {
    "tags": []
   },
   "outputs": [
    {
     "name": "stderr",
     "output_type": "stream",
     "text": [
      "100%|█████████████████████████████████████| 26165/26165 [05:31<00:00, 78.89it/s]\n"
     ]
    }
   ],
   "source": [
    "cctv_stats = []\n",
    "for i in tqdm(range(len(home_width))) : # range(len(home_width)) -> home_width.iloc[i]\n",
    "    local, lat_lng, home_id = home_width.iloc[i]\n",
    "    lat, lng = lat_lng.split(\",\")[0], lat_lng.split(\",\")[1]\n",
    "    home = float(lat), float(lng)\n",
    "    if local in gu :\n",
    "        for cnt, k in list(zip(cctv_width[\"카메라대수\"], cctv[cctv[\"구\"] == local][\"match\"])) :\n",
    "            temp = []\n",
    "            latt, long = k.split(\",\")[0], k.split(\",\")[1]\n",
    "            camera = float(latt), float(long)\n",
    "            km = haversine(home, camera, unit = \"km\")\n",
    "            if km <= 0.1 :\n",
    "                temp.append(km)\n",
    "                temp.append(cnt)\n",
    "                temp.append(home_id)\n",
    "            if temp != [] :\n",
    "                cctv_stats.append(temp)"
   ]
  },
  {
   "cell_type": "code",
   "execution_count": null,
   "id": "0b581706-0a7b-4acc-a283-7f4bc6831138",
   "metadata": {
    "tags": []
   },
   "outputs": [],
   "source": [
    "cctv_distance = pd.DataFrame(cctv_stats, columns = [\"카메라_거리\", \"카메라대수\",\"item_id\"])"
   ]
  },
  {
   "cell_type": "markdown",
   "id": "3e83cd34-a005-4784-97dc-ab6e52a43977",
   "metadata": {
    "tags": []
   },
   "source": [
    "#### 지하철 데이터 취합"
   ]
  },
  {
   "cell_type": "code",
   "execution_count": 54,
   "id": "ba025130-10f8-4e64-871d-7b18bd3db430",
   "metadata": {},
   "outputs": [],
   "source": [
    "df_sub.loc[589]=['가락시장',37.492522,127.118234]"
   ]
  },
  {
   "cell_type": "code",
   "execution_count": 55,
   "id": "96bab455-6bd2-4626-8310-f945e15bd95e",
   "metadata": {},
   "outputs": [],
   "source": [
    "df_sub.columns=['지하철역','위도','경도']"
   ]
  },
  {
   "cell_type": "code",
   "execution_count": 56,
   "id": "c02bc9ac-c6fd-48f7-ad25-015337b3049b",
   "metadata": {},
   "outputs": [],
   "source": [
    "df_sub[\"match\"] = (df_sub[\"위도\"].astype(str) + \",\" + df_sub[\"경도\"].astype(str)) "
   ]
  },
  {
   "cell_type": "code",
   "execution_count": 57,
   "id": "1fd72756-3e18-4819-888c-42558b566b94",
   "metadata": {},
   "outputs": [
    {
     "name": "stderr",
     "output_type": "stream",
     "text": [
      "100%|████████████████████████████████████| 26165/26165 [01:51<00:00, 234.31it/s]\n"
     ]
    }
   ],
   "source": [
    "sub_length = []\n",
    "for i,j in tqdm(list(zip(df[\"item_id\"], df[\"match\"]))) :\n",
    "    a, b = j.split(\",\")[0], j.split(\",\")[1]\n",
    "    home = float(a), float(b)\n",
    "    temp = []\n",
    "    vs = []\n",
    "    li = []\n",
    "    for j, k in list(zip(df_sub[\"지하철역\"],df_sub[\"match\"])) :\n",
    "        a, b = k.split(\",\")[0], k.split(\",\")[1]\n",
    "        police = float(a,), float(b)\n",
    "        temp.append(haversine(home, police, unit = \"km\"))\n",
    "        vs.append(haversine(home, police, unit = \"km\"))\n",
    "        vs.append(j)\n",
    "    li.append(min(temp))\n",
    "    if  min(temp) == vs[vs.index(min(temp))] :\n",
    "        li.append(vs[vs.index(min(temp))+1])\n",
    "        li.append(i)\n",
    "    sub_length.append(li)"
   ]
  },
  {
   "cell_type": "code",
   "execution_count": 59,
   "id": "942ca9ed-76c3-41f6-822e-aead5bc04bd5",
   "metadata": {},
   "outputs": [],
   "source": [
    "sub_width = pd.DataFrame(sub_length, columns = [\"지하철_거리\", \"지하철역\", \"item_id\"])"
   ]
  },
  {
   "cell_type": "code",
   "execution_count": 60,
   "id": "1734c538-c6b9-45a8-a4b3-91347f10fd00",
   "metadata": {},
   "outputs": [],
   "source": [
    "df = pd.merge(df, sub_width, on = \"item_id\")"
   ]
  },
  {
   "cell_type": "markdown",
   "id": "4a0188d2-e7f6-4daa-8965-169d70f191f5",
   "metadata": {
    "tags": []
   },
   "source": [
    "#### 편의점 데이터 취합"
   ]
  },
  {
   "cell_type": "code",
   "execution_count": 64,
   "id": "65ae46c8-8f43-48a6-84d4-16837bfda325",
   "metadata": {},
   "outputs": [
    {
     "data": {
      "text/html": [
       "<div>\n",
       "<style scoped>\n",
       "    .dataframe tbody tr th:only-of-type {\n",
       "        vertical-align: middle;\n",
       "    }\n",
       "\n",
       "    .dataframe tbody tr th {\n",
       "        vertical-align: top;\n",
       "    }\n",
       "\n",
       "    .dataframe thead th {\n",
       "        text-align: right;\n",
       "    }\n",
       "</style>\n",
       "<table border=\"1\" class=\"dataframe\">\n",
       "  <thead>\n",
       "    <tr style=\"text-align: right;\">\n",
       "      <th></th>\n",
       "      <th>MEGA_NM</th>\n",
       "      <th>MEGA_CD</th>\n",
       "      <th>CTY_CD</th>\n",
       "      <th>CTY_NM</th>\n",
       "      <th>TOTAL</th>\n",
       "      <th>위도</th>\n",
       "      <th>경도</th>\n",
       "    </tr>\n",
       "  </thead>\n",
       "  <tbody>\n",
       "    <tr>\n",
       "      <th>0</th>\n",
       "      <td>서울특별시</td>\n",
       "      <td>11</td>\n",
       "      <td>11110</td>\n",
       "      <td>종로구</td>\n",
       "      <td>1</td>\n",
       "      <td>37.575244</td>\n",
       "      <td>126.968649</td>\n",
       "    </tr>\n",
       "  </tbody>\n",
       "</table>\n",
       "</div>"
      ],
      "text/plain": [
       "  MEGA_NM  MEGA_CD  CTY_CD CTY_NM  TOTAL         위도          경도\n",
       "0   서울특별시       11   11110    종로구      1  37.575244  126.968649"
      ]
     },
     "execution_count": 64,
     "metadata": {},
     "output_type": "execute_result"
    }
   ],
   "source": [
    "df_cu.head(1)"
   ]
  },
  {
   "cell_type": "code",
   "execution_count": 67,
   "id": "d345c883-0736-4527-b88e-91b5fe372fdf",
   "metadata": {},
   "outputs": [
    {
     "name": "stderr",
     "output_type": "stream",
     "text": [
      "100%|█████████████████████████████████████| 26165/26165 [08:41<00:00, 50.22it/s]\n"
     ]
    }
   ],
   "source": [
    "df_cu[\"match\"] = (df_cu[\"위도\"].astype(str) + \",\" + df_cu[\"경도\"].astype(str)) \n",
    "\n",
    "store_length = []\n",
    "for i,j in tqdm(list(zip(df[\"item_id\"], df[\"match\"]))) :\n",
    "    a, b = j.split(\",\")[0], j.split(\",\")[1]\n",
    "    home = float(a), float(b)\n",
    "    temp = []\n",
    "    vs = []\n",
    "    li = []\n",
    "    for k  in df_cu[\"match\"] : \n",
    "        a, b = k.split(\",\")[0], k.split(\",\")[1]\n",
    "        police = float(a,), float(b)\n",
    "        temp.append(haversine(home, police, unit = \"km\"))\n",
    "        vs.append(haversine(home, police, unit = \"km\"))\n",
    "    li.append(min(temp))\n",
    "    if  min(temp) == vs[vs.index(min(temp))] :\n",
    "        li.append(i)\n",
    "    store_length.append(li)"
   ]
  },
  {
   "cell_type": "code",
   "execution_count": 68,
   "id": "a2571bf6-7b0a-4e57-b270-692f09c13924",
   "metadata": {},
   "outputs": [],
   "source": [
    "store_width = pd.DataFrame(store_length, columns=['편의점_거리','item_id'])"
   ]
  },
  {
   "cell_type": "code",
   "execution_count": 70,
   "id": "b6ef4976-10ca-4b4e-8dc9-36cb18db31ff",
   "metadata": {},
   "outputs": [],
   "source": [
    "df = pd.merge(df, store_width, on = \"item_id\")"
   ]
  },
  {
   "cell_type": "markdown",
   "id": "ae2bd90b-caac-4146-992d-4ed8a243c802",
   "metadata": {
    "tags": []
   },
   "source": [
    "#### CCTV 데이터 취합"
   ]
  },
  {
   "cell_type": "code",
   "execution_count": 437,
   "id": "2250a644-cabe-4913-af23-ea2fce3fbc8f",
   "metadata": {},
   "outputs": [],
   "source": [
    "df = pd.merge(df, cctv_distance, on = 'item_id')"
   ]
  },
  {
   "cell_type": "markdown",
   "id": "a38bf6e4-c5d4-4214-94c5-cf818d070d58",
   "metadata": {
    "tags": []
   },
   "source": [
    "#### 월세금액 이상치 치환"
   ]
  },
  {
   "cell_type": "code",
   "execution_count": null,
   "id": "2d17f2ab-0ab7-4ea1-96cb-7e73754790be",
   "metadata": {},
   "outputs": [],
   "source": [
    "df[\"월세금액\"] = np.where(df[\"월세금액\"] == df[\"월세금액\"].max(), 95, df[\"월세금액\"])"
   ]
  },
  {
   "cell_type": "code",
   "execution_count": null,
   "id": "4e786b44-d70d-4707-9ba1-a6fc037a4c55",
   "metadata": {},
   "outputs": [],
   "source": [
    "df = df[df[\"전용면적_m2\"] < 200] # 전용면적이 60평 아래인 집 데이터만 보존하기 위해 이상치 제거"
   ]
  },
  {
   "cell_type": "markdown",
   "id": "a40ed4bb-2b8f-4573-a3ad-a561561c6795",
   "metadata": {
    "tags": []
   },
   "source": [
    "#### km 형태의 거리 데이터를 소숫점 3자리 까지 표현"
   ]
  },
  {
   "cell_type": "code",
   "execution_count": 73,
   "id": "2af086c3-0e88-4b93-aebd-f92460e14835",
   "metadata": {},
   "outputs": [],
   "source": [
    "width_list = ['경찰서_거리', '지하철_거리', '편의점_거리']"
   ]
  },
  {
   "cell_type": "code",
   "execution_count": 75,
   "id": "bb696ee3-03e4-4601-bd32-e65958e51843",
   "metadata": {},
   "outputs": [],
   "source": [
    "for li in width_list :\n",
    "    df[li] = df[li].astype(str).str[:5].astype(float)"
   ]
  },
  {
   "cell_type": "markdown",
   "id": "268d3fae-eef3-4477-8e35-c79fddf6e110",
   "metadata": {
    "tags": []
   },
   "source": [
    "#### 층별 데이터에서 0과 반지하, 옥탑방 데이터 수정"
   ]
  },
  {
   "cell_type": "code",
   "execution_count": 79,
   "id": "ed5dc8c0-0273-4838-977d-3ad1807eaba8",
   "metadata": {},
   "outputs": [
    {
     "data": {
      "text/plain": [
       "array(['1', '0', '5', '2', '3', '4', '반지하', '7', '9', '10', '옥탑방', '8',\n",
       "       '6', '14', '11', '16', '12', '18', '15', '17', '19', '13', '21',\n",
       "       '20', '22', '36', '25'], dtype=object)"
      ]
     },
     "execution_count": 79,
     "metadata": {},
     "output_type": "execute_result"
    }
   ],
   "source": [
    "df[\"floor\"].unique()"
   ]
  },
  {
   "cell_type": "code",
   "execution_count": 83,
   "id": "9072a448-0c43-4ffa-9ba8-1df540f3a694",
   "metadata": {},
   "outputs": [],
   "source": [
    "df[\"floor\"] = np.where(df[\"floor\"] == \"0\", \"1\",df[\"floor\"])"
   ]
  },
  {
   "cell_type": "code",
   "execution_count": 86,
   "id": "72135513-69fe-4d04-a1dd-3b867db0eaf1",
   "metadata": {},
   "outputs": [],
   "source": [
    "df['floorset']=np.where(df['floor'] == \"반지하\", 98,\n",
    "np.where(df[\"floor\"] ==\"옥탑방\", 99, df['floor']))\n",
    "\n",
    "df['floorset'] = df['floorset'].astype(int)\n",
    "df[\"floorset\"] = np.where((df['floorset'] <= 10),'10층 이하',\n",
    "np.where(df['floorset'] <= 20,'20층 이하',\n",
    "np.where(df['floorset'] <= 40,'40층 이하',df['floorset'])))"
   ]
  },
  {
   "cell_type": "code",
   "execution_count": 92,
   "id": "def68e2a-ee69-4b91-8376-bb28180b6def",
   "metadata": {},
   "outputs": [],
   "source": [
    "df[\"floorset\"] = np.where(df[\"floorset\"] == '98', \"반지하\",\n",
    "np.where(df[\"floorset\"] == '99', \"옥탑방\", df[\"floorset\"]))"
   ]
  },
  {
   "cell_type": "markdown",
   "id": "5639bc2f-3ad6-4868-bda2-a0655f7c81d7",
   "metadata": {
    "tags": []
   },
   "source": [
    "#### 날짜 데이터 전처리"
   ]
  },
  {
   "cell_type": "code",
   "execution_count": 221,
   "id": "e49d6268-8603-47ac-84df-b6e45b8548df",
   "metadata": {},
   "outputs": [],
   "source": [
    "lt = [\"등기\", \"예정\", \"준공\", \"없음\", \"면적\", \"완료\", \"리모델링\", \"이전\", \"중순이\",\"조율\",\"신축중\",\"말\",\"승인\",\"미정\",\"신림\",\"건축\",\"미상\",\"신축\",\"중순\"]"
   ]
  },
  {
   "cell_type": "code",
   "execution_count": 222,
   "id": "d67cbbf2-641a-4fde-8536-89ed08dc7b20",
   "metadata": {},
   "outputs": [],
   "source": [
    "for i in lt : \n",
    "    for j in df[df[\"approve_date\"].str.contains(i)].index :\n",
    "        df.drop(j, inplace = True)"
   ]
  },
  {
   "cell_type": "code",
   "execution_count": 151,
   "id": "0103ee58-30b1-4894-83df-1364e42b6886",
   "metadata": {},
   "outputs": [],
   "source": [
    "df[\"approve_date\"] = df[\"approve_date\"].str.replace(\"년\",\"\").str.replace(\"월\",\"\").str.replace(\"일\",\"\")"
   ]
  },
  {
   "cell_type": "code",
   "execution_count": 157,
   "id": "2321f663-a85f-4f20-8ace-bab075dc42e2",
   "metadata": {},
   "outputs": [],
   "source": [
    "df[\"approve_date\"]= df[\"approve_date\"].str.replace(\".\",\"-\").str.strip()"
   ]
  },
  {
   "cell_type": "code",
   "execution_count": 169,
   "id": "1dbd2759-b1f7-4100-98a5-a76b3c47b8fe",
   "metadata": {},
   "outputs": [],
   "source": [
    "df[\"approve_date\"] = df[\"approve_date\"].str.replace(\" \", \"-\")"
   ]
  },
  {
   "cell_type": "code",
   "execution_count": 228,
   "id": "c89118fd-de52-49c0-9f0f-11d92af8725a",
   "metadata": {},
   "outputs": [],
   "source": [
    "df[\"month\"] = df[\"month\"].str.replace(\"-\", \"0\").str.replace(\"/\",\"0\")"
   ]
  },
  {
   "cell_type": "code",
   "execution_count": 237,
   "id": "c654d3e8-4eb2-4ad2-b642-fba4289d5d53",
   "metadata": {},
   "outputs": [],
   "source": [
    "df.drop(df[df[\"month\"] == \"9\"].index, inplace = True)"
   ]
  },
  {
   "cell_type": "code",
   "execution_count": 239,
   "id": "77bf4f7e-6cc0-45dc-99da-acb78d861cb3",
   "metadata": {},
   "outputs": [],
   "source": [
    "df.drop(df[df[\"month\"] == \"7\"].index, inplace = True)"
   ]
  },
  {
   "cell_type": "code",
   "execution_count": 243,
   "id": "af0b50c7-815e-420b-bfa1-434046945a71",
   "metadata": {},
   "outputs": [],
   "source": [
    "three_word = []\n",
    "for i in df[\"month\"].unique() :\n",
    "    if len(i) == 3:\n",
    "        three_word.append(i)"
   ]
  },
  {
   "cell_type": "code",
   "execution_count": 290,
   "id": "8afe9c48-f314-4b36-a3de-eb083fee27d0",
   "metadata": {},
   "outputs": [],
   "source": [
    "mapping = {\"958\" : '1995', \"916\" : '1991', \"229\" : '2022', \"153\" : '2015', \"167\" : '2016',\n",
    "          \"178\" : '2017', \"154\" : '2015', \"209\" : '2020', \"206\" : '2020'}"
   ]
  },
  {
   "cell_type": "code",
   "execution_count": 299,
   "id": "e4eee38f-1d6a-479d-895e-d9aec627951b",
   "metadata": {},
   "outputs": [],
   "source": [
    "for g in three_word :\n",
    "    for i in df[\"month\"].unique() :\n",
    "        if g == i :\n",
    "            df[\"month\"] = df[\"month\"].str.replace(g, mapping[g])"
   ]
  },
  {
   "cell_type": "markdown",
   "id": "79a0bcf6-27bb-4ffa-a67b-3c24a3278705",
   "metadata": {
    "jp-MarkdownHeadingCollapsed": true,
    "tags": []
   },
   "source": [
    "## 파일 저장"
   ]
  },
  {
   "cell_type": "code",
   "execution_count": 448,
   "id": "f0cd77d9-311b-4c41-a148-afecffedfbfe",
   "metadata": {},
   "outputs": [],
   "source": [
    "df.to_csv(\"전월세 및 거리계산 전처리.csv\")"
   ]
  },
  {
   "cell_type": "code",
   "execution_count": 361,
   "id": "16486213-baac-4d00-8fc3-70a9178adb9d",
   "metadata": {},
   "outputs": [],
   "source": [
    "cctv_distance.to_csv(\"CCTV 거리 계산.csv\")"
   ]
  },
  {
   "cell_type": "markdown",
   "id": "548861a6-457d-468a-9001-719cb9affb5f",
   "metadata": {},
   "source": [
    "## 시각화"
   ]
  },
  {
   "cell_type": "code",
   "execution_count": 306,
   "id": "8c2643b5-794f-4180-b1e3-953f9ddeced5",
   "metadata": {},
   "outputs": [],
   "source": [
    "# pip install folium"
   ]
  },
  {
   "cell_type": "code",
   "execution_count": 2,
   "id": "9bbf7178-9530-4269-a3e1-62e8b7a6e710",
   "metadata": {},
   "outputs": [],
   "source": [
    "# us_cities = pd.read_csv(\n",
    "#     \"https://raw.githubusercontent.com/plotly/datasets/master/us-cities-top-1k.csv\"\n",
    "# )\n",
    "\n",
    "# fig = px.scatter_mapbox(\n",
    "#     df,\n",
    "#     lat=\"lat\",\n",
    "#     lon=\"long\",\n",
    "#     hover_name=\"local2\",\n",
    "#     hover_data=[\"보증금액\", \"월세금액\"],\n",
    "#     color_discrete_sequence=[\"fuchsia\"],\n",
    "#     zoom=10,\n",
    "#     height=500,\n",
    "# )\n",
    "# fig.update_layout(mapbox_style=\"open-street-map\")\n",
    "# fig.update_layout(margin={\"r\": 0, \"t\": 0, \"l\": 0, \"b\": 0})\n",
    "# fig.show()"
   ]
  },
  {
   "cell_type": "code",
   "execution_count": 437,
   "id": "18514e30-f3f5-4ff6-9dfe-69b716ea54d6",
   "metadata": {},
   "outputs": [],
   "source": [
    "df = pd.merge(df, cctv_distance, on = 'item_id')"
   ]
  },
  {
   "cell_type": "code",
   "execution_count": 399,
   "id": "e40e31a4-ae56-4005-be48-147565c3a568",
   "metadata": {},
   "outputs": [
    {
     "data": {
      "text/plain": [
       "geojson.feature.FeatureCollection"
      ]
     },
     "execution_count": 399,
     "metadata": {},
     "output_type": "execute_result"
    }
   ],
   "source": [
    "geo_data = df_to_geojson(\n",
    "    df=df,\n",
    "    lat='lat',\n",
    "    lon='long',\n",
    "    # filename = \"data/toilet_seoul.geojson\"\n",
    ")\n",
    "\n",
    "type(geo_data)"
   ]
  },
  {
   "cell_type": "code",
   "execution_count": 408,
   "id": "aa2c77e2-981d-4441-b963-b8e74784d063",
   "metadata": {
    "tags": []
   },
   "outputs": [
    {
     "data": {
      "text/plain": [
       "geopandas.geodataframe.GeoDataFrame"
      ]
     },
     "execution_count": 408,
     "metadata": {},
     "output_type": "execute_result"
    }
   ],
   "source": [
    "gdf = gpd.GeoDataFrame(df)"
   ]
  },
  {
   "cell_type": "code",
   "execution_count": 3,
   "id": "03bbe8e9-3d96-4ed3-ae1c-4e411fff88eb",
   "metadata": {},
   "outputs": [],
   "source": [
    "#                                                               ㅇㅇㅇㅋ# 중심 경도 위도 (ex. 남산타워 좌표값)\n",
    "# lon, lat = 126.987867837993, 37.5511225714939\n",
    "# center = [lon, lat]\n",
    "\n",
    "# # 색상 범주 설정\n",
    "# color_breaks = list(range(1000, 12000, 2000))\n",
    "# color_stops = create_color_stops(color_breaks, colors='BuPu')\n",
    "\n",
    "# # 2D 지도 생성\n",
    "# viz = ChoroplethViz(\n",
    "#     access_token = mapbox_key,\n",
    "#     data = geo_data,\n",
    "#     color_property = '전용평당가',\n",
    "#     color_stops = color_stops,\n",
    "#     center = center,\n",
    "#     zoom = 10\n",
    "# )\n",
    "\n",
    "# # 출력\n",
    "# viz.show()"
   ]
  },
  {
   "cell_type": "code",
   "execution_count": 441,
   "id": "49fd04d2-c101-45a7-b000-916b95506da2",
   "metadata": {},
   "outputs": [],
   "source": [
    "df2=df[['보증금액','월세금액','local2','lat','long','경찰서_거리','치안센터명', '지하철_거리', '지하철역', '편의점_거리','카메라_거리', '카메라대수']]\n",
    "df2=df2[df2['lat']!='']\n",
    "df2=df2[df2['long']!='']\n",
    "df2['lat']=df2['lat'].astype(float)\n",
    "df2['lon']=df2['long'].astype(float)\n",
    "\n",
    "geo_data = df_to_geojson(\n",
    "    df=df2,\n",
    "    properties=['보증금액','월세금액','local2','경찰서_거리','치안센터명', '지하철_거리', '지하철역', '편의점_거리','카메라_거리', '카메라대수'],\n",
    "    lat='lat', lon='lon',\n",
    "    precision=11,\n",
    "    filename = \"home.geojson\"\n",
    ")\n",
    "\n",
    "geo_data_2 = 'home.geojson'"
   ]
  },
  {
   "cell_type": "code",
   "execution_count": 396,
   "id": "21d48320-3971-44c3-ad78-8d289e5ae4cc",
   "metadata": {},
   "outputs": [],
   "source": [
    "mapbox_key = \"pk.eyJ1IjoianVod2FuMiIsImEiOiJjbGF2amRkejMwNHd1M3ZsbjM0MmlneXdxIn0.KzYlIn8tpJcw2zQH4rEqtA\""
   ]
  },
  {
   "cell_type": "code",
   "execution_count": 1,
   "id": "d27602ca-1262-45ce-9e21-8d2e5a1b461d",
   "metadata": {},
   "outputs": [],
   "source": [
    "# with open(geo_data_2) as f:\n",
    "#     data = json.loads(f.read())\n",
    "    \n",
    "# from mapboxgl.viz import *\n",
    "\n",
    "# token = mapbox_key\n",
    "# center = [126.933400, 37.501156]\n",
    "\n",
    "# viz = CircleViz(\n",
    "#     data,\n",
    "#     access_token=token,\n",
    "#     center=center,\n",
    "#     color_default = 'lightBlue',\n",
    "#     zoom=10)\n",
    "\n",
    "# viz.show()\n",
    "# viz.create_html('home.html')\n",
    "\n",
    "# from mapboxgl.utils import (\n",
    "#     create_numeric_stops,\n",
    "#     create_color_stops\n",
    "# )\n",
    "\n",
    "# color_stops = create_color_stops([1,10,50,100], colors='RdYlGn')\n",
    "\n",
    "# cviz = ClusteredCircleViz(data,\n",
    "#                          access_token=token,\n",
    "#                          color_stops=color_stops,\n",
    "#                          radius_stops=[[1,5], [10, 10], [50, 15], [100, 20]],\n",
    "#                          radius_default=2,\n",
    "#                          cluster_maxzoom=10,\n",
    "\n",
    "#                          cluster_radius=30,\n",
    "#                          label_size=12,\n",
    "#                          opacity=0.9,\n",
    "#                          center=center,\n",
    "#                          zoom=10)\n",
    "\n",
    "# cviz.show()\n",
    "# cviz.create_html('home_cluster.html')"
   ]
  },
  {
   "cell_type": "code",
   "execution_count": null,
   "id": "cee2de8e-c3db-4de8-8037-40b7f31068a1",
   "metadata": {},
   "outputs": [],
   "source": []
  }
 ],
 "metadata": {
  "kernelspec": {
   "display_name": "Python 3.9.13 ('base')",
   "language": "python",
   "name": "python3"
  },
  "language_info": {
   "codemirror_mode": {
    "name": "ipython",
    "version": 3
   },
   "file_extension": ".py",
   "mimetype": "text/x-python",
   "name": "python",
   "nbconvert_exporter": "python",
   "pygments_lexer": "ipython3",
   "version": "3.9.13"
  },
  "vscode": {
   "interpreter": {
    "hash": "525dce99b1732a1b1dcfffc91c6d6e4abdce7417c57534eac01ce407f53619eb"
   }
  }
 },
 "nbformat": 4,
 "nbformat_minor": 5
}
